{
 "cells": [
  {
   "cell_type": "markdown",
   "metadata": {},
   "source": [
    "# Part 1: Anna"
   ]
  },
  {
   "cell_type": "code",
   "execution_count": 6,
   "metadata": {},
   "outputs": [],
   "source": [
    "import sympy as sym\n",
    "from sympy.solvers.solveset import nonlinsolve\n",
    "import numpy as np\n",
    "from scipy.integrate import ode\n",
    "import matplotlib.pyplot as plt"
   ]
  },
  {
   "cell_type": "markdown",
   "metadata": {},
   "source": [
    "## Introduction and Background\n",
    "This project focuses on using epidemic models to explore various aspects of python. Even though Alex and I worked together on this project, we focused on different implementations and features of python. The primary focus of my portion of the project was to explore the python library SymPy through the lens of stability and equilibrium analysis of epidemic models. The second part of the project I worked on looked at modifying the SIR.py code given in class to accommodate simulations where there is a parameter change during a run. Since this project relies on epidemic models and modeling we will start with a brief overview of mathematical epidemic modeling and the specific models used in this project.\n",
    "\n",
    "There are many different variants of mathematical epidemic models which all serve the same purpose, to track and predict disease spread in a community. Some of the most common models are the susceptible-infectious-recovered (SIR), susceptible-infectious-susceptible (SIS), susceptible-infected (SI), or susceptible-exposed-infectious (SEI). These models work by dividing a population into classes, where the specific classes depend on the disease you are studying and which model is used. For example, a SIS model divides a population into a susceptible class and an infectious class, while a SEI model divides the population into a susceptible class, exposed class, and infected class. Even though the exact classes vary between models, all mathematical epidemic models have a susceptible class and an infectious class. The susceptible class, denoted by $S$, is defined to be the group of individuals who are not infected with the disease, but are susceptible to infection and the infectious class, denoted by $I$, are the individuals who are not only infected with the disease, but are capable of transmitting it to others in the population. Another important aspect to these models is movement. The most basic way for movement between the classes to happen in these models are from interactions between the classes or interaction with the disease. Thus, when the infectious and susceptible classes come into contact there is the possibility of transmission, so those who contract the disease would moved from the susceptible class to the infected class.\n",
    "\n",
    "Mathematically, epidemic models are described as a dynamical system, often built by ordinary differential equations (ODEs); although some more complicated models can include partial differential equations (PDEs). For this project we are only using are ODE models. Once these models are described mathematically many kinds of analysis that can be preformed. In the  681Project\\_SymPy\\_Sisk.py code I use python to explore equilibrium and stability analysis, along with calculating the basic reproductive number, $\\mathscr{R}_0$. Briefly (and simplistically), equilibrium and stability analysis looks at the long term behavior of the system and the basic reproductive number is the number of secondary infections caused by one infectious individual. Mathematically, $\\mathscr{R}_0$ tells us if the differential equation describing the $I$ class will be positive or negative. In other words, if the population of the infected class is increasing or decreasing. It also has the condition, if $\\mathscr{R}_0>1$ then the disease will persist in the population and if $\\mathscr{R}_0<1$, the disease will eventually be eliminated. \n",
    "\n",
    "In my portion of the project I look at three different epidemic models. Model 1 in the 681Project\\_ SymPy\\_Sisk.py code comes from chapter 6, page 273 of Linda Allen's book, *An Introduction to Mathematical Biology*. It is a simple SIS model that does not allow for births and deaths, where $N$ is the total population, $\\gamma$ is the recovery rate, and $\\beta$ is the contact rate. While model 1, seen below, is a general model, Allen notes that models of this form are often used to study the spread of sexually transmitted diseases since no immunity is gained after recovery.\n",
    "\n",
    "\\begin{equation}\n",
    "\\begin{split}\n",
    "    \\frac{dS}{dt}&=-\\frac{\\beta}{N}SI+\\gamma I\\\\\n",
    "    \\frac{dI}{dt}&=\\frac{\\beta}{N}SI-\\gamma I\n",
    "\\end{split}\n",
    "\\end{equation}\n",
    "\n",
    "Model 2 in the 681Project\\_SymPy\\_Sisk.py code, seen below, is from chapter 2, page 35 of Fred Brauer and Carlos Castillo-Chavez's book, *Mathematical Models for Communicable diseases*.\n",
    "\\begin{equation}\n",
    "\\begin{split}\n",
    "    S'&=\\lambda-\\beta SI-\\mu S\\\\\n",
    "    I'&=\\beta SI-\\mu I-\\alpha I\\\\\n",
    "    N'&=\\lambda-\\mu N\n",
    "\\end{split}\n",
    "\\end{equation}\n",
    "This is a general SI model, where $N$ is the total population, $\\alpha$ is the rate of departure from the infective class through recovery, $\\beta$ is the per-capita contact, $\\mu$ is the proportional natural death rate, and $\\lambda$ is the density-dependent birth rate. Unlike model 1, this model allows for births and death, but no deaths caused by the disease. It also assumes everyone is born susceptible and there is full immunity after recovery. Further, the authors then note that since the model is asymptotically autonomous we can consider $N$ to be constant and perform analysis on the follow system instead,\n",
    "\\begin{equation}\\label{BCModelRed}\n",
    "\\begin{split}\n",
    "    S'&=\\lambda-\\beta SI-\\mu S\\\\\n",
    "    I'&=\\beta SI-\\mu I-\\alpha I.\\\\\n",
    "\\end{split}\n",
    "\\end{equation}\n",
    "This reduced system is used in the 681Project\\_SymPy\\_Sisk.py.\n",
    "\n",
    "The last model I looked at is an SEIR model from Hem Joshi, Suzanne Lenhart, Micheal Li, and Liancheng Wang's paper *Optimal Control Methods Applies to Disease Models*. I used this model in the 681Project\\_NumSim\\_Sisk.py code as a part of the modification the SIR.py code. The model,\n",
    "\\begin{equation}\n",
    "\\begin{split}\n",
    "    S'&=bN-dS-\\frac{\\beta IS}{N}-vS\\\\\n",
    "    E'&=\\frac{\\beta IS}{N}-(\\epsilon+d)E\\\\\n",
    "    I'&=\\epsilon E-(\\gamma+\\alpha+d)I\\\\\n",
    "    R'&=\\gamma I-dR+vS\\\\\n",
    "    N'&=(b-d)N-\\alpha I\n",
    "\\end{split}\n",
    "\\end{equation}\n",
    "is designed to study a micro-parasitic infectious disease, where $\\alpha$ is the death rate caused by the disease, $b$ is the natural birth rate, $\\beta$ is the adequate contact rate between susceptible and infectious individuals, $d$ is the natural death rate, $\\epsilon$ is the rate exposed individuals become infectious, $\\gamma$ is the recovery rate, and $v$ is the constant per capita vaccination rate. This model is more complicated then models 1 and 2 since they disease requires an incubation period in the host before they become infectious (able to transmit the disease to other). This is seen by the inclusion of the exposed class. For my part of the project I am assuming a constant vaccination rate in this model even though the main focus of the paper is to find the optimal vaccination rate using optimal control techniques. Alex will go into the detail of the optimal control problem and implementation in python in her section of the project.\n",
    "\n",
    "Now that we have some background on mathematical epidemic modeling and the particular models we are working with we will go through a brief introduction into the SymPy library. SymPy is python's symbolic library. According to the SymPy website the aim is \"to become a full-featured computer algebra system (CAS) while keeping the code as simple as possible in order to be comprehensible and easily extensible\". Since SymPy is is written entirely in python, once a user has gained familiarity python's syntax SymPy is relatively easy to learn how to use and a great alternative to other symbolic mathematical programs like Maple and Mathematica, where the user would need to learn a new syntax. SymPy has a wide range of features and modules ranging from basic algebraic manipulation and simplification of symbolic expressions up to more complicated tasks like solving ODEs/PDEs and computations on symbolic matrices. To get famariliar with the basic of SymPy, let's look at some examples. \n",
    "\n",
    "We will start with some simple expression manipulation. Note, unlike in other CAS programs (like Maple) the user must first initialize the symbols that will be used."
   ]
  },
  {
   "cell_type": "code",
   "execution_count": 7,
   "metadata": {},
   "outputs": [],
   "source": [
    "x = sym.Symbol('x')\n",
    "y = sym.Symbol('y')"
   ]
  },
  {
   "cell_type": "markdown",
   "metadata": {},
   "source": [
    "Now that we have initalized the $x$ and $y$ symbols we can use them in a symbolic expression. The command pprint, short for pretty print, formats symbolic expressions (which is unnecessary in a Jupyter Notebook enviroment) and the command expand foils out the expression, as expected."
   ]
  },
  {
   "cell_type": "code",
   "execution_count": 8,
   "metadata": {},
   "outputs": [
    {
     "name": "stdout",
     "output_type": "stream",
     "text": [
      "       2\n",
      "(x + y) \n"
     ]
    },
    {
     "data": {
      "text/latex": [
       "$\\displaystyle x^{2} + 2 x y + y^{2}$"
      ],
      "text/plain": [
       "x**2 + 2*x*y + y**2"
      ]
     },
     "execution_count": 8,
     "metadata": {},
     "output_type": "execute_result"
    }
   ],
   "source": [
    "sym.pprint((x+y)**2)\n",
    "sym.expand((x+y)**2)"
   ]
  },
  {
   "cell_type": "markdown",
   "metadata": {},
   "source": [
    "Going one step further we can use solve command to find solutions to sybolic expressions. Note, the solve command is used to find roots and thus only requires the non-zero side of the equation."
   ]
  },
  {
   "cell_type": "code",
   "execution_count": 9,
   "metadata": {},
   "outputs": [
    {
     "data": {
      "text/plain": [
       "[-y]"
      ]
     },
     "execution_count": 9,
     "metadata": {},
     "output_type": "execute_result"
    }
   ],
   "source": [
    "sym.solve((x+y)**2,x)"
   ]
  },
  {
   "cell_type": "markdown",
   "metadata": {},
   "source": [
    "Now that we have seen some of the basic functions of SymPy, let's look at look at a more sophisticated feature-solving an ODE. While SymPy can handle ODE and PDE systems, in this example we will look at the differential equation for exponential growth. First, we define the symbolic function, $P(x)$, similar to how we defined other symbols, and then define $r$, the intrinsic growth, as before. Like the the solve command, dsolve requires the differential equation to be set equal to zero. Hence, we rearrange the differential equation as follows,\n",
    "\\begin{equation}\n",
    "\\begin{split}\n",
    "    P'&=rP\\\\\n",
    "    \\implies P'-rP&=0\n",
    "\\end{split}\n",
    "\\end{equation}\n",
    "and pass dsolve the left hand side."
   ]
  },
  {
   "cell_type": "code",
   "execution_count": 10,
   "metadata": {},
   "outputs": [
    {
     "data": {
      "text/latex": [
       "$\\displaystyle P{\\left(x \\right)} = C_{1} e^{r x}$"
      ],
      "text/plain": [
       "Eq(P(x), C1*exp(r*x))"
      ]
     },
     "execution_count": 10,
     "metadata": {},
     "output_type": "execute_result"
    }
   ],
   "source": [
    "P = sym.symbols('P', cls=sym.Function)\n",
    "r = sym.Symbol('r')\n",
    "sym.dsolve(P(x).diff(x)-r*P(x))"
   ]
  },
  {
   "cell_type": "markdown",
   "metadata": {},
   "source": [
    "While SymPy is able to solve various different types of ODEs and PDEs, there is a limit to the complexity it can handle. In addition to differential equations, SymPy also has modules dedicated to differential geometry, Lie algebra, category theory, logical and boolean expressions, and tensor operations to name a few. A full list of the modules and features of the SymPy library can be found on it's documentation page. For the 681Project\\_SymPy\\_Sisk.py code I explore the utility of the symbolic solvers, print formatting, and the ODE and linear algebra modules. Now that we have some background information we can eplore the 681Project\\_ SymPy\\_Sisk.py and 681Project\\_NumSim\\_Sisk.py codes."
   ]
  },
  {
   "cell_type": "markdown",
   "metadata": {},
   "source": [
    "## Methods and Results\n",
    "We will start with looking at the 681Project\\_ SymPy\\_Sisk.py code. I decided to use functional programming for this code, so I could could look at more then one model. This code has three functions: eq_points, stability, and NextGen. All of these functions were built to preform basic equilibrium and stability analysis that, while usually can be done by hand, is often algebraically tedious.\n",
    "\n",
    "The first function we will look at is eq_points. As the name sugests this function returns the equilibrium points of a model/system. The arguments for the function are the system itself and a list of the state variables, so the solver knows for which symbols it is solving."
   ]
  },
  {
   "cell_type": "code",
   "execution_count": 11,
   "metadata": {},
   "outputs": [],
   "source": [
    "def eq_points(system,state_var):\n",
    "    eq_pts = list(nonlinsolve(system, state_var))\n",
    "    return eq_pts"
   ]
  },
  {
   "cell_type": "markdown",
   "metadata": {},
   "source": [
    "The functions passes its arugments into the SymPy nonlinsolve command and it catches the outputs in a list. The list is then named eq_pts and is passed back to the user. \n",
    "\n",
    "The next function is named stability. This function helps a user determine if an equilibrium point is stable/unstable using traditional linearization techniques. Similar the eq_pts function, the arugments for stability are the system, the state variables, and the equilibrium point of interest. This function used the linear algebra/matrix module from SymPy."
   ]
  },
  {
   "cell_type": "code",
   "execution_count": 22,
   "metadata": {},
   "outputs": [],
   "source": [
    "def stability(system,state_var,eq):\n",
    "    #Find the jacobian\n",
    "    X = sym.Matrix(system) \n",
    "    Y = sym.Matrix(state_var)   \n",
    "    jacobian = X.jacobian(Y)\n",
    "\n",
    "    #Evaluate Jacobian at equilibrium point\n",
    "    jacobian_eq = jacobian\n",
    "    for i in range(len(state_var)):\n",
    "        jacobian_eq = jacobian_eq.subs(state_var[i],eq[i])\n",
    "    \n",
    "    #Find the eigenvalues of the jacobian evaluated at equilibrium point\n",
    "    eigenval = []\n",
    "    for i in jacobian_eq.eigenvals():\n",
    "        eigenval.append(i)\n",
    "    for i in range(len(eigenval)):\n",
    "        if eigenval[i]==0:\n",
    "            warning=\"Stability cannot be determine due to zero eigenvalue!\"\n",
    "            zeoeig=True\n",
    "            break\n",
    "        else:\n",
    "            zeoeig=False\n",
    "    if zeoeig==True:\n",
    "        return warning\n",
    "    else:\n",
    "        return eigenval"
   ]
  },
  {
   "cell_type": "markdown",
   "metadata": {},
   "source": [
    "This function starts by putting the equations from the system and the state variables into seperate matrices of the same size. Then using SymPy's jacobian function, creates the jacobian matrix by passing the system and state variable matrices. The next step is to evaluate the jacobian at the given equilibrium point. To do this I set up a for-loop to run for the number of state variables and substituted in the equilibrium point value into the matrix for each state variable. We then used the eigenvals command to find the eigenvalues of the jacobian evaluated at the equilibrium point, which was put into a list. Since stability can only be determined using linearization when there non-zero eigenvalues, the last for-loop in the function checks each eigenvalue to see if it is zero. If there is zero eigenvalue, it will automatically return a warning to the user that stability is unable to be determined using linearization techniques. If there are no zero eigenvalues, then the functions returns the list of the eigenvalues. Since the eigenvalues are purely symbolic the user then must decide if the eigenvalues are positive or negative and thus whether the equilibrium point is stable or unstable.\n",
    "\n",
    "The last function in this code in NextGen. This function uses the technique of finding the next generation matrix to calculate the basic reproductive number. Setting up the next generation matrix requires dividing your model between the infected classes, $X$, and the non-infected classes, $Y$. The infected classes include not only the infectious class, but also any exposed or carrier classes. For this process, transmissability is not needed to be consided 'infected'. Using Model 1 as an example, $X=I$ and $Y=S$ is the non-infected class. Now that the model is divided, the terms in the infected class(es) must be subdivided into terms that signify new infections (in flow rates to $X$ from $Y$), called $f$, and all other rates, called $v$. Thus the infected class(es), can be written as,\n",
    "\\begin{align*}\n",
    "\\frac{dX}{dt}=f-v.\n",
    "\\end{align*}\n",
    "For Model 1, $f=\\frac{\\beta}{N}SI$ and $v=-\\gamma I$. Next, for $f$ and $v$ find the derivative or take the jacobian (depending on how many state variables are in the infected classes) with respect to the state variable(es) of the infected class(es) and evaluate at the diease free equilibrium. We will refer to these modified $f$ and $v$ and $F$ and $V$, repectively. For Model 1, $F= \\frac{\\beta}{N}S^*$ and $V= -\\gamma$. where $S^*$ is the $S$ value of the disease free equilibrium point. With $F$ and $V$, the next generation matrix can be defined as $FV^{-1}$. Now that we have the next generation matrix, we can find it's eigenvalues and the largest one, also called the spectral radius, is the basic reproductive number. So, for Model 1,\n",
    "\\begin{align*}\n",
    "FV^{-1}&=\\frac{\\beta}{N}S^*\\Big(-\\frac{1}{\\gamma}\\Big)\\\\\n",
    "&=-\\frac{\\beta\\gamma S^*}{N}\n",
    "\\end{align*}\n",
    "Thus, the basic reproductive number for Model 1 is $-\\frac{\\beta\\gamma S^*}{N}$. This explanation was based on slides from B. Song at Montclair State University (https://mtbi.asu.edu/sites/default/files/brn_mtbi_2016.pdf).\n",
    "\n",
    "The Nextgen function follows the exact process outlined above. The arguments it requires are a list of the infected state variables ($X$ from above), the list of all the state variables from the model, the in flow rates ($f$), the other rates ($v$), and the disease free equilibrium. Since the eigenvalues are purely symbolic, python cannot determine which is the largest, so it returns all of the eigenvalues of the next generation matrix. The user must decide which is the largest, and hence the basic reproductive number."
   ]
  },
  {
   "cell_type": "code",
   "execution_count": 13,
   "metadata": {},
   "outputs": [],
   "source": [
    "def NextGen(InfectVar,state_var,InFlow,OFlow,DFE):\n",
    "    f=sym.Matrix(InFlow)\n",
    "    v=sym.Matrix(OFlow)\n",
    "\n",
    "    F=f.jacobian(InfectVar)\n",
    "    V=v.jacobian(InfectVar)\n",
    "\n",
    "    for i in range(len(InfectVar)):\n",
    "        F=F.subs(state_var[i],DFE[i])\n",
    "\n",
    "    for i in range(len(InfectVar)):\n",
    "        V=V.subs(state_var[i],DFE[i])   \n",
    "    InverseV=sym.Inverse(V)\n",
    "    NextGen=F*InverseV\n",
    "    return NextGen.eigenvals()"
   ]
  },
  {
   "cell_type": "markdown",
   "metadata": {},
   "source": [
    "Now that we are familiar with the functions in the 681Project\\_ SymPy\\_Sisk.py code we can apply them to Models 1 and 2. First, we will work with "
   ]
  },
  {
   "cell_type": "code",
   "execution_count": 14,
   "metadata": {},
   "outputs": [],
   "source": [
    "#Model 1\n",
    "#State variables\n",
    "S = sym.Symbol('S')\n",
    "I = sym.Symbol('I')\n",
    "state_var = [S,I]\n",
    "#Parameters\n",
    "b = sym.Symbol('b')\n",
    "g = sym.Symbol('g')\n",
    "N = sym.Symbol('N')\n",
    "#Model definition\n",
    "Sdot = (-b/N)*S*I+g*I\n",
    "Idot = (b/N)*S*I-g*I\n",
    "system = [Sdot,Idot]"
   ]
  },
  {
   "cell_type": "markdown",
   "metadata": {},
   "source": []
  },
  {
   "cell_type": "code",
   "execution_count": 23,
   "metadata": {},
   "outputs": [
    {
     "name": "stdout",
     "output_type": "stream",
     "text": [
      "The equilibrium points are [(S, 0), (N*g/b, I)]\n",
      "Stability of the equilibrium: Stability cannot be determine due to zero eigenv\n",
      "alue!\n",
      "The basic reproductive number is\n",
      "S*b/(N*g)\n"
     ]
    }
   ],
   "source": [
    "eq = eq_points(system,state_var)\n",
    "stability = stability(system,state_var,eq[0])\n",
    "basic_repro = NextGen([I],state_var,[(b/N)*S*I],[g*I],eq[0])\n",
    "sym.pprint('The equilibrium points are {}'.format(eq))\n",
    "sym.pprint('Stability of the equilibrium: {}'.format(stability))\n",
    "print('The basic reproductive number is' )\n",
    "for x in basic_repro:\n",
    "    print('{}'.format(x))"
   ]
  },
  {
   "cell_type": "markdown",
   "metadata": {},
   "source": [
    "## Discussion and Conclusion\n",
    "What I learned/What I struggled with/What was interesting and helpful/Why this could be useful to other students"
   ]
  },
  {
   "cell_type": "code",
   "execution_count": null,
   "metadata": {},
   "outputs": [],
   "source": []
  },
  {
   "cell_type": "code",
   "execution_count": null,
   "metadata": {},
   "outputs": [],
   "source": []
  },
  {
   "cell_type": "markdown",
   "metadata": {},
   "source": [
    "# Part 2: Alex"
   ]
  },
  {
   "cell_type": "code",
   "execution_count": null,
   "metadata": {},
   "outputs": [],
   "source": []
  }
 ],
 "metadata": {
  "kernelspec": {
   "display_name": "Python 3",
   "language": "python",
   "name": "python3"
  },
  "language_info": {
   "codemirror_mode": {
    "name": "ipython",
    "version": 3
   },
   "file_extension": ".py",
   "mimetype": "text/x-python",
   "name": "python",
   "nbconvert_exporter": "python",
   "pygments_lexer": "ipython3",
   "version": "3.8.3"
  }
 },
 "nbformat": 4,
 "nbformat_minor": 4
}
